{
 "cells": [
  {
   "cell_type": "code",
   "execution_count": 10,
   "metadata": {},
   "outputs": [],
   "source": [
    "from __future__ import print_function\n",
    "\n",
    "import pandas as pd\n",
    "import nltk\n",
    "import matplotlib.pyplot as plt\n",
    "import json\n",
    "import csv\n",
    "from datetime import datetime\n",
    "\n",
    "#import requests\n",
    "from pandas import DataFrame\n",
    "from elasticsearch import Elasticsearch\n",
    "from time import sleep\n",
    "from nltk.corpus import stopwords\n",
    "from nltk.tokenize import wordpunct_tokenize\n",
    "import re\n",
    "from lxml import etree\n",
    "import collections\n",
    "from xml.etree import ElementTree\n",
    "import xml.etree.ElementTree\n",
    "import sklearn\n",
    "from sklearn.feature_extraction.text import TfidfVectorizer\n",
    "from sklearn.metrics.pairwise import cosine_similarity\n",
    "from sklearn.externals import joblib\n",
    "from sklearn.decomposition import PCA\n",
    "from sklearn.cluster import KMeans\n",
    "from sklearn.preprocessing import scale\n",
    "from sklearn.preprocessing import StandardScaler\n",
    "from sklearn import metrics\n",
    "from sklearn.preprocessing import LabelEncoder\n",
    "from sklearn.cross_validation import train_test_split\n",
    "from sklearn.metrics.pairwise import manhattan_distances\n",
    "\n",
    "import numpy as np\n",
    "from sklearn.manifold import TSNE\n",
    "import os\n",
    "import codecs\n",
    "# import mpld3\n",
    "import pylab\n",
    "import matplotlib\n",
    "import collections\n",
    "import matplotlib.collections\n",
    "from matplotlib.collections import PatchCollection\n",
    "from matplotlib.mlab import PCA\n",
    "from nltk.stem.snowball import SnowballStemmer\n",
    "\n",
    "import matplotlib.pyplot as plt\n",
    "import matplotlib as mpl\n",
    "from matplotlib.colors import LinearSegmentedColormap\n",
    "from matplotlib.lines import Line2D\n",
    "import IPython\n",
    "\n",
    "\n",
    "from sklearn.manifold import MDS\n",
    "\n",
    "import pylab as pl\n",
    "import csv"
   ]
  },
  {
   "cell_type": "code",
   "execution_count": 12,
   "metadata": {},
   "outputs": [],
   "source": [
    "####CTGOV MESH TERMS LIST FROM FILE##########\n",
    "ct_gov_mesh_list1 = []\n",
    "ct_gov_mesh_list_id = []\n",
    "with open(\"/Users/Evan.Chang1@ibm.com/Desktop/evan_outputs_no_thresh.csv\", 'rt') as outfile:\n",
    "    reader = csv.reader(outfile, delimiter='\\t')\n",
    "    for row in reader:\n",
    "        new_row =row[0].split(',')\n",
    "        ct_gov_mesh_list1.append(new_row[1:])\n",
    "        ct_gov_mesh_list_id.append(new_row[0])"
   ]
  },
  {
   "cell_type": "code",
   "execution_count": 13,
   "metadata": {
    "collapsed": true
   },
   "outputs": [],
   "source": [
    "# ct_gov_mesh_list_id, ct_gov_mesh_list1"
   ]
  },
  {
   "cell_type": "code",
   "execution_count": 14,
   "metadata": {},
   "outputs": [],
   "source": [
    "################## Parsing of XML finding General topics and all MeSH terms ########################################\n",
    "root = xml.etree.ElementTree.parse(\"MESH.xml\").getroot() \n",
    "\n",
    "#The XML is too big to upload on Github \n",
    "\n",
    "String_list = []\n",
    "\n",
    "#Anatomy [A]\n",
    "#Organims [B]\n",
    "#Diseases[C]\n",
    "#Chemical and Drugs[D]\n",
    "#Analytical, Diagnostic and Therapeutic Techniques, and Equipment[E]\n",
    "#Psychiatry and Psychology[F]\n",
    "#Phenomena and Process[G]\n",
    "#Disciplines and Occupations[H]\n",
    "#Anthropology, Education, Sociology, and Social Phenomena [I]\n",
    "#Technology, Industry, and Agriculture[J]\n",
    "#Humanities[K]\n",
    "#Information Science[L]\n",
    "#Named Groups[M]\n",
    "#Health Care[N]\n",
    "#Publication Characteristics[V]\n",
    "#Geographicals[Z]\n",
    "\n",
    "#172,620 Tree Number -> 86,310\n",
    "#56,940 Tree Number List -> 28,470\n",
    "tree_high = []\n",
    "\n",
    "for child in root:\n",
    "    test_hold = []\n",
    "    for element in child.findall(\"TreeNumberList\"):\n",
    "        tree = element.find(\"TreeNumber\").text\n",
    "        test_hold.append(tree)\n",
    "    tree_high.append(test_hold)\n",
    "\n",
    "    \n",
    "#Need to find <ConceptName>\n",
    "#108,846 -> 54,423\n",
    "for child in root:\n",
    "     for element in child:\n",
    "         for stringz in element:\n",
    "             if stringz.tag == \"String\": \n",
    "                 String_list.append(stringz.text)\n"
   ]
  },
  {
   "cell_type": "code",
   "execution_count": 15,
   "metadata": {
    "collapsed": true
   },
   "outputs": [],
   "source": [
    "MeSH_letters = []\n",
    "for i in tree_high:\n",
    "    for j in i:\n",
    "        MeSH_letters.append(j[0])\n"
   ]
  },
  {
   "cell_type": "code",
   "execution_count": 16,
   "metadata": {},
   "outputs": [
    {
     "data": {
      "text/plain": [
       "(28470, 28472, 28472)"
      ]
     },
     "execution_count": 16,
     "metadata": {},
     "output_type": "execute_result"
    }
   ],
   "source": [
    "len(MeSH_letters),len(String_list), len(tree_high)\n"
   ]
  },
  {
   "cell_type": "code",
   "execution_count": 17,
   "metadata": {
    "collapsed": true
   },
   "outputs": [],
   "source": [
    "finals_list= []\n",
    "for i in range(len(MeSH_letters)):\n",
    "    holder = [MeSH_letters[i],String_list[i]]\n",
    "    finals_list.append(holder)\n",
    "    \n",
    "    "
   ]
  },
  {
   "cell_type": "code",
   "execution_count": 18,
   "metadata": {
    "collapsed": true
   },
   "outputs": [],
   "source": [
    "#Anatomy [A]\n",
    "#Organims [B]\n",
    "#Diseases[C]\n",
    "#Chemical and Drugs[D]\n",
    "#Analytical, Diagnostic and Therapeutic Techniques, and Equipment[E]\n",
    "#Psychiatry and Psychology[F]\n",
    "#Phenomena and Process[G]\n",
    "#Disciplines and Occupations[H]\n",
    "#Anthropology, Education, Sociology, and Social Phenomena [I]\n",
    "#Technology, Industry, and Agriculture[J]\n",
    "#Humanities[K]\n",
    "#Information Science[L]\n",
    "#Named Groups[M]\n",
    "#Health Care[N]\n",
    "#Publication Characteristics[V]\n",
    "#Geographicals[Z]\n",
    "\n",
    "for i in range(len(finals_list)):\n",
    "#     for j in finals_list[i]:\n",
    "    if finals_list[i][0] == \"A\":\n",
    "        finals_list[i][0] = \"Anatomy\"\n",
    "            \n",
    "    elif finals_list[i][0] == \"B\":\n",
    "        finals_list[i][0] = \"Organisms\"\n",
    "            \n",
    "    elif finals_list[i][0] == \"C\":\n",
    "        finals_list[i][0] = \"Diseases\"\n",
    "            \n",
    "    elif finals_list[i][0] == \"D\":\n",
    "#             print(\"pong\")\n",
    "        finals_list[i][0] = \"Chemical\"\n",
    "            \n",
    "    elif finals_list[i][0] == \"E\":\n",
    "        finals_list[i][0] = \"Analytical\"\n",
    "\n",
    "    elif finals_list[i][0] == \"F\":\n",
    "        finals_list[i][0] =  \"Psychiatry\"\n",
    "            \n",
    "    elif finals_list[i][0] == \"G\":\n",
    "        finals_list[i][0] =  \"Phenomena\"\n",
    "            \n",
    "    elif finals_list[i][0] == \"H\":\n",
    "        finals_list[i][0] = \"Disciplines\"\n",
    "            \n",
    "    elif finals_list[i][0] == \"I\":\n",
    "        finals_list[i][0] =  \"Anthropology\"\n",
    "            \n",
    "    elif finals_list[i][0] == \"J\":\n",
    "        finals_list[i][0] = \"Technology\"\n",
    "            \n",
    "    elif finals_list[i][0] == \"K\":\n",
    "        finals_list[i][0] =  \"Humanities\"\n",
    "            \n",
    "    elif finals_list[i][0] == \"L\":\n",
    "        finals_list[i][0] = \"Information\"\n",
    "            \n",
    "    elif finals_list[i][0] == \"M\":\n",
    "        finals_list[i][0] = \"Named Groups\"\n",
    "            \n",
    "    elif finals_list[i][0] == \"N\":\n",
    "        finals_list[i][0] = \"Health Care\"\n",
    "            \n",
    "    elif finals_list[i][0] == \"V\":\n",
    "        finals_list[i][0] = \"Publication\"\n",
    "        \n",
    "    else:\n",
    "        finals_list[i][0] = \"Geographicals\" \n",
    "#         print(j[0])"
   ]
  },
  {
   "cell_type": "code",
   "execution_count": 20,
   "metadata": {},
   "outputs": [
    {
     "name": "stdout",
     "output_type": "stream",
     "text": [
      "299\n",
      "wordlist finalized\n"
     ]
    }
   ],
   "source": [
    "#********** OUTPUT_TABLE IS THE PANDAS TABLE OF TEXT AND AUTHORS ********************\n",
    "\n",
    "wordList_dict = dict(zip(ct_gov_mesh_list_id, ct_gov_mesh_list1))\n",
    "\n",
    "print(len(wordList_dict))\n",
    "#This has the id: Terms in a dictionary\n",
    "\n",
    "print(\"wordlist finalized\")\n",
    "# print(wordList_dict)"
   ]
  },
  {
   "cell_type": "code",
   "execution_count": 21,
   "metadata": {
    "collapsed": true
   },
   "outputs": [],
   "source": [
    "stemmer = SnowballStemmer(\"english\")\n",
    "\n",
    "totalvocab_stemmed = []\n",
    "totalvocab_tokenized = []\n",
    "\n",
    "#Word List is a dict\n",
    "\n",
    "wordList= []\n",
    "for k,v in wordList_dict.items():\n",
    "        wordList.append(v)\n",
    "        \n",
    "\n",
    "\n"
   ]
  },
  {
   "cell_type": "code",
   "execution_count": 22,
   "metadata": {
    "collapsed": true
   },
   "outputs": [],
   "source": [
    "# finals_list #This is the list of MeSH mapped to general categories\n",
    "\n",
    "# wordList\n",
    "\n",
    "for i in range(len(wordList)):\n",
    "    for j in range(len(wordList[i])):\n",
    "        for k in range(len(finals_list)):\n",
    "            if wordList[i][j] == str(\" \") + finals_list[k][1]:\n",
    "                wordList[i][j] = finals_list[k][0]\n",
    "            elif wordList[i][j] == finals_list[k][1]:\n",
    "                wordList[i][j] = finals_list[k][0]\n",
    "            else:\n",
    "                continue"
   ]
  },
  {
   "cell_type": "code",
   "execution_count": 38,
   "metadata": {},
   "outputs": [],
   "source": [
    "wordList_final = []\n",
    "for i in range(len(wordList)):\n",
    "    wordList_holder = []\n",
    "    for j in range(len(wordList[i])):\n",
    "        if wordList[i][j] != '':\n",
    "            wordList_holder.append(wordList[i][j])\n",
    "    wordList_final.append(wordList_holder)"
   ]
  },
  {
   "cell_type": "code",
   "execution_count": 39,
   "metadata": {
    "collapsed": true
   },
   "outputs": [
    {
     "data": {
      "text/plain": [
       "['Analytical',\n",
       " ' Clinical Research Protocol',\n",
       " 'Analytical',\n",
       " ' Protocols',\n",
       " 'Health Care',\n",
       " 'Anthropology',\n",
       " 'Chemical',\n",
       " 'Psychiatry',\n",
       " ' Drug Approval Process',\n",
       " 'Diseases',\n",
       " 'Chemical']"
      ]
     },
     "execution_count": 39,
     "metadata": {},
     "output_type": "execute_result"
    }
   ],
   "source": [
    "wordList_final[0:20][0]"
   ]
  },
  {
   "cell_type": "code",
   "execution_count": 40,
   "metadata": {
    "collapsed": true
   },
   "outputs": [],
   "source": [
    "import collections\n",
    "def sorted_by_count(lists):\n",
    "  counts = collections.defaultdict(int)\n",
    "  for L in lists:\n",
    "#     for n in L:\n",
    "    counts[L] += 1\n",
    "  return [num for num, count in\n",
    "          sorted(counts.items(),\n",
    "                 key=lambda k_v: (k_v[1], k_v[0]),\n",
    "                 reverse=True)]\n",
    "\n",
    "wordList_finalized = []\n",
    "for i in wordList_final:\n",
    "    holder2 = sorted_by_count(i)\n",
    "    wordList_finalized.append(holder2[0:2])\n",
    "    \n",
    "# wordList_final_sort = sorted_by_count(wordList_final)\n",
    "for i in range(len(wordList_finalized)):\n",
    "    wordList_finalized[i] = sorted(wordList_finalized[i])"
   ]
  },
  {
   "cell_type": "code",
   "execution_count": 41,
   "metadata": {
    "collapsed": true
   },
   "outputs": [],
   "source": [
    "final_final = []\n",
    "for i in range(len(wordList_finalized)):\n",
    "    final_final.append(','.join(wordList_finalized[i]))"
   ]
  },
  {
   "cell_type": "code",
   "execution_count": 42,
   "metadata": {
    "collapsed": true
   },
   "outputs": [],
   "source": [
    "from collections import defaultdict\n",
    "\n",
    "final_dict = defaultdict(int)\n",
    "for word in final_final:\n",
    "    final_dict[word] += 1"
   ]
  },
  {
   "cell_type": "code",
   "execution_count": 43,
   "metadata": {},
   "outputs": [
    {
     "data": {
      "image/png": "[encoded data removed]",
      "text/plain": [
       "<matplotlib.figure.Figure at 0x1a9e5c0ba8>"
      ]
     },
     "metadata": {},
     "output_type": "display_data"
    }
   ],
   "source": [
    "##################### HISTOGRAM OF DOCUMENT COUNTS AND TOPICS#########################\n",
    "import matplotlib.ticker as plticker\n",
    "\n",
    "fig, ax = plt.subplots(figsize =(17,9))\n",
    "\n",
    "histo_x = list(final_dict.keys())\n",
    "histo_y = list(final_dict.values())\n",
    "\n",
    "x_holder= []\n",
    "labels = []\n",
    "\n",
    "y_pos = np.arange(len(histo_x))\n",
    "\n",
    "for i in histo_x:\n",
    "        labels.append(i)\n",
    "\n",
    "for i in range(len(histo_x)):\n",
    "        x_holder.append(i)\n",
    "\n",
    "plt.bar(y_pos, histo_y, align='center', alpha=0.5, color='r')\n",
    "\n",
    "loc = plticker.MultipleLocator(base=1.0) # this locator puts ticks at regular intervals\n",
    "ax.xaxis.set_major_locator(loc)\n",
    "plt.xticks(y_pos, histo_x, rotation=90)\n",
    "plt.ylabel('Topic Count')\n",
    "plt.title('Document Count')\n",
    "# plt.autoscale(enable=True, axis='x', tight=False)\n",
    "# plt.tight_layout()\n",
    "plt.show()"
   ]
  },
  {
   "cell_type": "code",
   "execution_count": null,
   "metadata": {
    "collapsed": true
   },
   "outputs": [],
   "source": []
  },
  {
   "cell_type": "code",
   "execution_count": null,
   "metadata": {
    "collapsed": true
   },
   "outputs": [],
   "source": []
  }
 ],
 "metadata": {
  "kernelspec": {
   "display_name": "Python 3",
   "language": "python",
   "name": "python3"
  },
  "language_info": {
   "codemirror_mode": {
    "name": "ipython",
    "version": 3
   },
   "file_extension": ".py",
   "mimetype": "text/x-python",
   "name": "python",
   "nbconvert_exporter": "python",
   "pygments_lexer": "ipython3",
   "version": "3.6.3"
  }
 },
 "nbformat": 4,
 "nbformat_minor": 2
}
